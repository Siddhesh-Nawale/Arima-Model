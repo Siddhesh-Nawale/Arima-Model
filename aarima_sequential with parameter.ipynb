{
 "cells": [
  {
   "cell_type": "code",
   "execution_count": 30,
   "metadata": {},
   "outputs": [
    {
     "name": "stdout",
     "output_type": "stream",
     "text": [
      "            Withdrawl_Amount\n",
      "Date                        \n",
      "2015-01-01              0.00\n",
      "2015-02-01        5500056.18\n",
      "2015-03-01        2200000.00\n",
      "2015-04-01              0.00\n",
      "2015-05-01        3231000.00\n"
     ]
    },
    {
     "data": {
      "image/png": "[encoded data removed]",
      "text/plain": [
       "<Figure size 432x288 with 1 Axes>"
      ]
     },
     "metadata": {
      "needs_background": "light"
     },
     "output_type": "display_data"
    }
   ],
   "source": [
    "import pandas as pd\n",
    "import matplotlib.pyplot as pyplot\n",
    "#series = pd.read_csv(r'time_series_data.csv', header=0, parse_dates=[0], index_col=0, squeeze=True)\n",
    "df1 = pd.read_csv('time_series_data.csv',parse_dates=[0], index_col=0, )\n",
    "print(df1.head())\n",
    "df1.plot()\n",
    "pyplot.show()"
   ]
  },
  {
   "cell_type": "code",
   "execution_count": 31,
   "metadata": {},
   "outputs": [
    {
     "data": {
      "text/html": [
       "<div>\n",
       "<style scoped>\n",
       "    .dataframe tbody tr th:only-of-type {\n",
       "        vertical-align: middle;\n",
       "    }\n",
       "\n",
       "    .dataframe tbody tr th {\n",
       "        vertical-align: top;\n",
       "    }\n",
       "\n",
       "    .dataframe thead th {\n",
       "        text-align: right;\n",
       "    }\n",
       "</style>\n",
       "<table border=\"1\" class=\"dataframe\">\n",
       "  <thead>\n",
       "    <tr style=\"text-align: right;\">\n",
       "      <th></th>\n",
       "      <th>Withdrawl_Amount</th>\n",
       "    </tr>\n",
       "    <tr>\n",
       "      <th>Date</th>\n",
       "      <th></th>\n",
       "    </tr>\n",
       "  </thead>\n",
       "  <tbody>\n",
       "    <tr>\n",
       "      <th>2015-01-01</th>\n",
       "      <td>0.00</td>\n",
       "    </tr>\n",
       "    <tr>\n",
       "      <th>2015-02-01</th>\n",
       "      <td>5500056.18</td>\n",
       "    </tr>\n",
       "    <tr>\n",
       "      <th>2015-03-01</th>\n",
       "      <td>2200000.00</td>\n",
       "    </tr>\n",
       "    <tr>\n",
       "      <th>2015-04-01</th>\n",
       "      <td>0.00</td>\n",
       "    </tr>\n",
       "    <tr>\n",
       "      <th>2015-05-01</th>\n",
       "      <td>3231000.00</td>\n",
       "    </tr>\n",
       "    <tr>\n",
       "      <th>...</th>\n",
       "      <td>...</td>\n",
       "    </tr>\n",
       "    <tr>\n",
       "      <th>2019-01-03</th>\n",
       "      <td>4532396.00</td>\n",
       "    </tr>\n",
       "    <tr>\n",
       "      <th>2019-02-03</th>\n",
       "      <td>12633316.00</td>\n",
       "    </tr>\n",
       "    <tr>\n",
       "      <th>2019-03-03</th>\n",
       "      <td>0.00</td>\n",
       "    </tr>\n",
       "    <tr>\n",
       "      <th>2019-04-03</th>\n",
       "      <td>4800000.00</td>\n",
       "    </tr>\n",
       "    <tr>\n",
       "      <th>2019-05-03</th>\n",
       "      <td>11694712.08</td>\n",
       "    </tr>\n",
       "  </tbody>\n",
       "</table>\n",
       "<p>1525 rows × 1 columns</p>\n",
       "</div>"
      ],
      "text/plain": [
       "            Withdrawl_Amount\n",
       "Date                        \n",
       "2015-01-01              0.00\n",
       "2015-02-01        5500056.18\n",
       "2015-03-01        2200000.00\n",
       "2015-04-01              0.00\n",
       "2015-05-01        3231000.00\n",
       "...                      ...\n",
       "2019-01-03        4532396.00\n",
       "2019-02-03       12633316.00\n",
       "2019-03-03              0.00\n",
       "2019-04-03        4800000.00\n",
       "2019-05-03       11694712.08\n",
       "\n",
       "[1525 rows x 1 columns]"
      ]
     },
     "execution_count": 31,
     "metadata": {},
     "output_type": "execute_result"
    }
   ],
   "source": [
    "df1"
   ]
  },
  {
   "cell_type": "code",
   "execution_count": 32,
   "metadata": {},
   "outputs": [
    {
     "name": "stdout",
     "output_type": "stream",
     "text": [
      "<class 'pandas.core.frame.DataFrame'>\n",
      "DatetimeIndex: 1525 entries, 2015-01-01 to 2019-05-03\n",
      "Data columns (total 1 columns):\n",
      " #   Column            Non-Null Count  Dtype  \n",
      "---  ------            --------------  -----  \n",
      " 0   Withdrawl_Amount  1525 non-null   float64\n",
      "dtypes: float64(1)\n",
      "memory usage: 23.8 KB\n"
     ]
    }
   ],
   "source": [
    "df1.info()"
   ]
  },
  {
   "cell_type": "code",
   "execution_count": 33,
   "metadata": {},
   "outputs": [],
   "source": [
    "\n",
    "from sklearn.preprocessing import MinMaxScaler\n",
    "scaler = MinMaxScaler(feature_range=(0, 1))\n",
    "scaled = scaler.fit_transform(df1)"
   ]
  },
  {
   "cell_type": "code",
   "execution_count": 34,
   "metadata": {},
   "outputs": [
    {
     "data": {
      "text/plain": [
       "array([[0.        ],\n",
       "       [0.01466682],\n",
       "       [0.00586667],\n",
       "       ...,\n",
       "       [0.        ],\n",
       "       [0.0128    ],\n",
       "       [0.0311859 ]])"
      ]
     },
     "execution_count": 34,
     "metadata": {},
     "output_type": "execute_result"
    }
   ],
   "source": [
    "scaled"
   ]
  },
  {
   "cell_type": "code",
   "execution_count": 35,
   "metadata": {},
   "outputs": [
    {
     "name": "stdout",
     "output_type": "stream",
     "text": [
      "Min 0.0\n",
      "Max 1.0\n"
     ]
    }
   ],
   "source": [
    "#Means Scaling has worked\n",
    "import numpy as np\n",
    "print('Min', np.min(scaled))\n",
    "print('Max', np.max(scaled))"
   ]
  },
  {
   "cell_type": "code",
   "execution_count": 36,
   "metadata": {},
   "outputs": [
    {
     "data": {
      "text/plain": [
       "1525"
      ]
     },
     "execution_count": 36,
     "metadata": {},
     "output_type": "execute_result"
    }
   ],
   "source": [
    "len(scaled)"
   ]
  },
  {
   "cell_type": "code",
   "execution_count": 37,
   "metadata": {},
   "outputs": [
    {
     "name": "stdout",
     "output_type": "stream",
     "text": [
      "train: 1067\n",
      "test: 458\n"
     ]
    }
   ],
   "source": [
    "#Create the model\n",
    "train_size = int(len(scaled) * 0.70)\n",
    "test_size = len(scaled - train_size)\n",
    "train, test = scaled[0:train_size, :], scaled[train_size: len(scaled), :]\n",
    "print('train: {}\\ntest: {}'.format(len(train), len(test)))"
   ]
  },
  {
   "cell_type": "code",
   "execution_count": 38,
   "metadata": {},
   "outputs": [],
   "source": [
    "def create_dataset(dataset, look_back):\n",
    "    dataX, dataY = [], []\n",
    "    for i in range(len(dataset)-look_back-1):\n",
    "        a = dataset[i:(i+look_back), 0]\n",
    "        dataX.append(a)\n",
    "        dataY.append(dataset[i + look_back, 0])\n",
    "    return np.array(dataX), np.array(dataY)"
   ]
  },
  {
   "cell_type": "code",
   "execution_count": 39,
   "metadata": {},
   "outputs": [
    {
     "name": "stdout",
     "output_type": "stream",
     "text": [
      "(1041, 25)\n",
      "(1041,)\n",
      "(432, 25)\n",
      "(432,)\n"
     ]
    }
   ],
   "source": [
    "look_back = 25\n",
    "X_train, y_train = create_dataset(train, look_back)\n",
    "X_test, y_test = create_dataset(test, look_back)\n",
    "print(X_train.shape)\n",
    "print(y_train.shape)\n",
    "print(X_test.shape)\n",
    "print(y_test.shape)"
   ]
  },
  {
   "cell_type": "code",
   "execution_count": 83,
   "metadata": {},
   "outputs": [
    {
     "name": "stdout",
     "output_type": "stream",
     "text": [
      "(1041, 25, 1)\n",
      "(432, 25, 1)\n",
      "Hie [[0.        ]\n",
      " [0.01466682]\n",
      " [0.00586667]\n",
      " [0.        ]\n",
      " [0.008616  ]\n",
      " [0.01034682]\n",
      " [0.00973333]\n",
      " [0.0092    ]\n",
      " [0.01213333]\n",
      " [0.010404  ]\n",
      " [0.        ]\n",
      " [0.0176    ]\n",
      " [0.01853333]\n",
      " [0.01733333]\n",
      " [0.01696   ]\n",
      " [0.01520267]\n",
      " [0.010708  ]\n",
      " [0.        ]\n",
      " [0.0176    ]\n",
      " [0.02461333]\n",
      " [0.01365333]\n",
      " [0.01061467]\n",
      " [0.00686667]\n",
      " [0.004     ]\n",
      " [0.        ]]\n",
      "hello [[0.01466682]\n",
      " [0.00586667]\n",
      " [0.        ]\n",
      " [0.008616  ]\n",
      " [0.01034682]\n",
      " [0.00973333]\n",
      " [0.0092    ]\n",
      " [0.01213333]\n",
      " [0.010404  ]\n",
      " [0.        ]\n",
      " [0.0176    ]\n",
      " [0.01853333]\n",
      " [0.01733333]\n",
      " [0.01696   ]\n",
      " [0.01520267]\n",
      " [0.010708  ]\n",
      " [0.        ]\n",
      " [0.0176    ]\n",
      " [0.02461333]\n",
      " [0.01365333]\n",
      " [0.01061467]\n",
      " [0.00686667]\n",
      " [0.004     ]\n",
      " [0.        ]\n",
      " [0.        ]]\n",
      "hello2 [[0.00586667]\n",
      " [0.        ]\n",
      " [0.008616  ]\n",
      " [0.01034682]\n",
      " [0.00973333]\n",
      " [0.0092    ]\n",
      " [0.01213333]\n",
      " [0.010404  ]\n",
      " [0.        ]\n",
      " [0.0176    ]\n",
      " [0.01853333]\n",
      " [0.01733333]\n",
      " [0.01696   ]\n",
      " [0.01520267]\n",
      " [0.010708  ]\n",
      " [0.        ]\n",
      " [0.0176    ]\n",
      " [0.02461333]\n",
      " [0.01365333]\n",
      " [0.01061467]\n",
      " [0.00686667]\n",
      " [0.004     ]\n",
      " [0.        ]\n",
      " [0.        ]\n",
      " [0.01656596]]\n"
     ]
    }
   ],
   "source": [
    "# LSTM demands the formatting of the data in (Sample, #Features, Window_Size)\n",
    " \n",
    "X_train = np.reshape(X_train, (X_train.shape[0], X_train.shape[1], 1))\n",
    "X_test = np.reshape(X_test, (X_test.shape[0], X_test.shape[1], 1))\n",
    "print(X_train.shape)\n",
    "print(X_test.shape)\n",
    "print('Hie',X_train[0])\n",
    "print('hello',X_train[1])\n",
    "print('hello2',X_train[2])"
   ]
  },
  {
   "cell_type": "code",
   "execution_count": 41,
   "metadata": {},
   "outputs": [],
   "source": [
    "from pandas import DataFrame\n",
    "from statsmodels.tsa.arima_model import ARIMA"
   ]
  },
  {
   "cell_type": "code",
   "execution_count": 57,
   "metadata": {
    "collapsed": true
   },
   "outputs": [
    {
     "name": "stderr",
     "output_type": "stream",
     "text": [
      "ERROR: Could not find a version that satisfies the requirement tenserflow (from versions: none)\n",
      "ERROR: No matching distribution found for tenserflow\n"
     ]
    },
    {
     "name": "stdout",
     "output_type": "stream",
     "text": [
      "Collecting tensorflow\n",
      "  Downloading tensorflow-2.3.1-cp37-cp37m-win_amd64.whl (342.5 MB)\n",
      "Collecting keras-preprocessing<1.2,>=1.1.1\n",
      "  Downloading Keras_Preprocessing-1.1.2-py2.py3-none-any.whl (42 kB)\n",
      "Requirement already satisfied: wrapt>=1.11.1 in c:\\softwares\\anaconda\\lib\\site-packages (from tensorflow) (1.12.1)\n",
      "Collecting astunparse==1.6.3\n",
      "  Downloading astunparse-1.6.3-py2.py3-none-any.whl (12 kB)\n",
      "Requirement already satisfied: h5py<2.11.0,>=2.10.0 in c:\\softwares\\anaconda\\lib\\site-packages (from tensorflow) (2.10.0)\n",
      "Requirement already satisfied: wheel>=0.26 in c:\\softwares\\anaconda\\lib\\site-packages (from tensorflow) (0.34.2)\n",
      "Collecting opt-einsum>=2.3.2\n",
      "  Downloading opt_einsum-3.3.0-py3-none-any.whl (65 kB)\n",
      "Collecting absl-py>=0.7.0\n",
      "  Downloading absl_py-0.10.0-py3-none-any.whl (127 kB)\n",
      "Collecting tensorflow-estimator<2.4.0,>=2.3.0\n",
      "  Downloading tensorflow_estimator-2.3.0-py2.py3-none-any.whl (459 kB)\n",
      "Requirement already satisfied: termcolor>=1.1.0 in c:\\softwares\\anaconda\\lib\\site-packages (from tensorflow) (1.1.0)\n",
      "Requirement already satisfied: six>=1.12.0 in c:\\softwares\\anaconda\\lib\\site-packages (from tensorflow) (1.15.0)\n",
      "Collecting tensorboard<3,>=2.3.0\n",
      "  Downloading tensorboard-2.3.0-py3-none-any.whl (6.8 MB)\n",
      "Collecting google-pasta>=0.1.8\n",
      "  Downloading google_pasta-0.2.0-py3-none-any.whl (57 kB)\n",
      "Collecting grpcio>=1.8.6\n",
      "  Downloading grpcio-1.33.1-cp37-cp37m-win_amd64.whl (2.5 MB)\n",
      "Requirement already satisfied: protobuf>=3.9.2 in c:\\softwares\\anaconda\\lib\\site-packages (from tensorflow) (3.12.2)\n",
      "Requirement already satisfied: numpy<1.19.0,>=1.16.0 in c:\\softwares\\anaconda\\lib\\site-packages (from tensorflow) (1.18.5)\n",
      "Collecting gast==0.3.3\n",
      "  Downloading gast-0.3.3-py2.py3-none-any.whl (9.7 kB)\n",
      "Requirement already satisfied: setuptools>=41.0.0 in c:\\softwares\\anaconda\\lib\\site-packages (from tensorboard<3,>=2.3.0->tensorflow) (47.3.1.post20200622)\n",
      "Collecting tensorboard-plugin-wit>=1.6.0\n",
      "  Downloading tensorboard_plugin_wit-1.7.0-py3-none-any.whl (779 kB)\n",
      "Requirement already satisfied: werkzeug>=0.11.15 in c:\\softwares\\anaconda\\lib\\site-packages (from tensorboard<3,>=2.3.0->tensorflow) (1.0.1)\n",
      "Collecting google-auth-oauthlib<0.5,>=0.4.1\n",
      "  Downloading google_auth_oauthlib-0.4.1-py2.py3-none-any.whl (18 kB)\n",
      "Requirement already satisfied: requests<3,>=2.21.0 in c:\\softwares\\anaconda\\lib\\site-packages (from tensorboard<3,>=2.3.0->tensorflow) (2.24.0)\n",
      "Collecting markdown>=2.6.8\n",
      "  Downloading Markdown-3.3.3-py3-none-any.whl (96 kB)\n",
      "Collecting google-auth<2,>=1.6.3\n",
      "  Downloading google_auth-1.22.1-py2.py3-none-any.whl (114 kB)\n",
      "Requirement already satisfied: requests-oauthlib>=0.7.0 in c:\\softwares\\anaconda\\lib\\site-packages (from google-auth-oauthlib<0.5,>=0.4.1->tensorboard<3,>=2.3.0->tensorflow) (1.3.0)\n",
      "Requirement already satisfied: urllib3!=1.25.0,!=1.25.1,<1.26,>=1.21.1 in c:\\users\\ajay\\appdata\\roaming\\python\\python37\\site-packages (from requests<3,>=2.21.0->tensorboard<3,>=2.3.0->tensorflow) (1.24.3)\n",
      "Requirement already satisfied: certifi>=2017.4.17 in c:\\softwares\\anaconda\\lib\\site-packages (from requests<3,>=2.21.0->tensorboard<3,>=2.3.0->tensorflow) (2020.6.20)\n",
      "Requirement already satisfied: chardet<4,>=3.0.2 in c:\\softwares\\anaconda\\lib\\site-packages (from requests<3,>=2.21.0->tensorboard<3,>=2.3.0->tensorflow) (3.0.4)\n",
      "Requirement already satisfied: idna<3,>=2.5 in c:\\softwares\\anaconda\\lib\\site-packages (from requests<3,>=2.21.0->tensorboard<3,>=2.3.0->tensorflow) (2.10)\n",
      "Requirement already satisfied: importlib-metadata; python_version < \"3.8\" in c:\\softwares\\anaconda\\lib\\site-packages (from markdown>=2.6.8->tensorboard<3,>=2.3.0->tensorflow) (1.7.0)\n",
      "Collecting rsa<5,>=3.1.4; python_version >= \"3.5\"\n",
      "  Downloading rsa-4.6-py3-none-any.whl (47 kB)\n",
      "Collecting pyasn1-modules>=0.2.1\n",
      "  Downloading pyasn1_modules-0.2.8-py2.py3-none-any.whl (155 kB)\n",
      "Collecting cachetools<5.0,>=2.0.0\n",
      "  Downloading cachetools-4.1.1-py3-none-any.whl (10 kB)\n",
      "Requirement already satisfied: oauthlib>=3.0.0 in c:\\softwares\\anaconda\\lib\\site-packages (from requests-oauthlib>=0.7.0->google-auth-oauthlib<0.5,>=0.4.1->tensorboard<3,>=2.3.0->tensorflow) (3.1.0)\n",
      "Requirement already satisfied: zipp>=0.5 in c:\\softwares\\anaconda\\lib\\site-packages (from importlib-metadata; python_version < \"3.8\"->markdown>=2.6.8->tensorboard<3,>=2.3.0->tensorflow) (3.1.0)\n",
      "Collecting pyasn1>=0.1.3\n",
      "  Downloading pyasn1-0.4.8-py2.py3-none-any.whl (77 kB)\n",
      "Installing collected packages: keras-preprocessing, astunparse, opt-einsum, absl-py, tensorflow-estimator, tensorboard-plugin-wit, pyasn1, rsa, pyasn1-modules, cachetools, google-auth, google-auth-oauthlib, grpcio, markdown, tensorboard, google-pasta, gast, tensorflow\n",
      "Successfully installed absl-py-0.10.0 astunparse-1.6.3 cachetools-4.1.1 gast-0.3.3 google-auth-1.22.1 google-auth-oauthlib-0.4.1 google-pasta-0.2.0 grpcio-1.33.1 keras-preprocessing-1.1.2 markdown-3.3.3 opt-einsum-3.3.0 pyasn1-0.4.8 pyasn1-modules-0.2.8 rsa-4.6 tensorboard-2.3.0 tensorboard-plugin-wit-1.7.0 tensorflow-2.3.1 tensorflow-estimator-2.3.0\n"
     ]
    }
   ],
   "source": [
    "!pip install tensorflow\n"
   ]
  },
  {
   "cell_type": "code",
   "execution_count": 59,
   "metadata": {},
   "outputs": [],
   "source": [
    "import tensorflow as tf\n",
    "batch_size = 1 #How many records we are pushing into the model\n",
    "model = tf.keras.Sequential() #Defining Sequential Model"
   ]
  },
  {
   "cell_type": "code",
   "execution_count": 74,
   "metadata": {},
   "outputs": [],
   "source": [
    "model=ARIMA(X_train[0],order=(2,1,0))"
   ]
  },
  {
   "cell_type": "code",
   "execution_count": 75,
   "metadata": {},
   "outputs": [],
   "source": [
    "model_fit = model.fit(disp=0)"
   ]
  },
  {
   "cell_type": "code",
   "execution_count": 76,
   "metadata": {},
   "outputs": [
    {
     "name": "stdout",
     "output_type": "stream",
     "text": [
      "                             ARIMA Model Results                              \n",
      "==============================================================================\n",
      "Dep. Variable:                    D.y   No. Observations:                   24\n",
      "Model:                 ARIMA(2, 1, 0)   Log Likelihood                  85.167\n",
      "Method:                       css-mle   S.D. of innovations              0.007\n",
      "Date:                Wed, 28 Oct 2020   AIC                           -162.334\n",
      "Time:                        01:37:14   BIC                           -157.622\n",
      "Sample:                             1   HQIC                          -161.084\n",
      "                                                                              \n",
      "==============================================================================\n",
      "                 coef    std err          z      P>|z|      [0.025      0.975]\n",
      "------------------------------------------------------------------------------\n",
      "const      -6.518e-05      0.001     -0.078      0.937      -0.002       0.002\n",
      "ar.L1.D.y     -0.2845      0.193     -1.470      0.141      -0.664       0.095\n",
      "ar.L2.D.y     -0.4612      0.188     -2.454      0.014      -0.830      -0.093\n",
      "                                    Roots                                    \n",
      "=============================================================================\n",
      "                  Real          Imaginary           Modulus         Frequency\n",
      "-----------------------------------------------------------------------------\n",
      "AR.1           -0.3084           -1.4398j            1.4724           -0.2836\n",
      "AR.2           -0.3084           +1.4398j            1.4724            0.2836\n",
      "-----------------------------------------------------------------------------\n"
     ]
    }
   ],
   "source": [
    "print(model_fit.summary())"
   ]
  },
  {
   "cell_type": "code",
   "execution_count": 84,
   "metadata": {},
   "outputs": [],
   "source": [
    "model=ARIMA(X_test[0],order=(2,1,0))"
   ]
  },
  {
   "cell_type": "code",
   "execution_count": 85,
   "metadata": {},
   "outputs": [],
   "source": [
    "model_fit = model.fit(disp=0)"
   ]
  },
  {
   "cell_type": "code",
   "execution_count": 86,
   "metadata": {},
   "outputs": [
    {
     "name": "stdout",
     "output_type": "stream",
     "text": [
      "                             ARIMA Model Results                              \n",
      "==============================================================================\n",
      "Dep. Variable:                    D.y   No. Observations:                   24\n",
      "Model:                 ARIMA(2, 1, 0)   Log Likelihood                  15.706\n",
      "Method:                       css-mle   S.D. of innovations              0.125\n",
      "Date:                Wed, 28 Oct 2020   AIC                            -23.412\n",
      "Time:                        01:39:53   BIC                            -18.700\n",
      "Sample:                             1   HQIC                           -22.162\n",
      "                                                                              \n",
      "==============================================================================\n",
      "                 coef    std err          z      P>|z|      [0.025      0.975]\n",
      "------------------------------------------------------------------------------\n",
      "const          0.0043      0.018      0.245      0.807      -0.030       0.039\n",
      "ar.L1.D.y     -0.2655      0.212     -1.252      0.211      -0.681       0.150\n",
      "ar.L2.D.y     -0.2196      0.220     -0.996      0.319      -0.652       0.212\n",
      "                                    Roots                                    \n",
      "=============================================================================\n",
      "                  Real          Imaginary           Modulus         Frequency\n",
      "-----------------------------------------------------------------------------\n",
      "AR.1           -0.6045           -2.0465j            2.1339           -0.2957\n",
      "AR.2           -0.6045           +2.0465j            2.1339            0.2957\n",
      "-----------------------------------------------------------------------------\n"
     ]
    }
   ],
   "source": [
    "print(model_fit.summary())"
   ]
  }
 ],
 "metadata": {
  "kernelspec": {
   "display_name": "Python 3",
   "language": "python",
   "name": "python3"
  },
  "language_info": {
   "codemirror_mode": {
    "name": "ipython",
    "version": 3
   },
   "file_extension": ".py",
   "mimetype": "text/x-python",
   "name": "python",
   "nbconvert_exporter": "python",
   "pygments_lexer": "ipython3",
   "version": "3.7.7"
  }
 },
 "nbformat": 4,
 "nbformat_minor": 4
}
